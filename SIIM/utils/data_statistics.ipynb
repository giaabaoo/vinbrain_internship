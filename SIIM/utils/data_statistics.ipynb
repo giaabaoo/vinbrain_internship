{
 "cells": [
  {
   "cell_type": "code",
   "execution_count": 27,
   "metadata": {},
   "outputs": [],
   "source": [
    "import cv2\n",
    "import glob\n",
    "from tqdm import tqdm\n",
    "from matplotlib import pyplot as plt\n",
    "import json\n"
   ]
  },
  {
   "attachments": {},
   "cell_type": "markdown",
   "metadata": {},
   "source": [
    "### Check size of all pngs"
   ]
  },
  {
   "cell_type": "code",
   "execution_count": 4,
   "metadata": {},
   "outputs": [],
   "source": [
    "annotation_path = \"../../dataset/annotations/stage_2_train.csv\"\n",
    "image_path = \"../../dataset/pngs/original_images\"\n",
    "\n",
    "# Get all the image paths in subdirectories\n",
    "all_images_path = glob.glob(image_path + \"/train/*.png\") + glob.glob(image_path + \"/test/*.png\")"
   ]
  },
  {
   "cell_type": "code",
   "execution_count": null,
   "metadata": {},
   "outputs": [],
   "source": [
    "image_size_set = set()\n",
    "for image_path in tqdm(all_images_path):\n",
    "    image = cv2.imread(image_path)\n",
    "    height, width, _ = image.shape\n",
    "    image_size_set.add((height, width))\n",
    "print(image_size_set)"
   ]
  },
  {
   "attachments": {},
   "cell_type": "markdown",
   "metadata": {},
   "source": [
    "### Check number of positive and negative samples in original train and test set"
   ]
  },
  {
   "cell_type": "code",
   "execution_count": 10,
   "metadata": {},
   "outputs": [],
   "source": [
    "train_annotation_path = \"/home/dhgbao/VinBrain/Pneumothorax_Segmentation/dataset/annotations/old/train.json\"\n",
    "test_annotation_path = \"/home/dhgbao/VinBrain/Pneumothorax_Segmentation/dataset/annotations/old/test.json\""
   ]
  },
  {
   "cell_type": "code",
   "execution_count": 19,
   "metadata": {},
   "outputs": [],
   "source": [
    "# load json file\n",
    "with open(train_annotation_path, 'r') as f:\n",
    "    train_data = json.load(f)\n",
    "\n",
    "with open(test_annotation_path, 'r') as f:\n",
    "    test_data = json.load(f)\n",
    "\n",
    "train_pos_dict = {}\n",
    "train_neg_dict = {}\n",
    "\n",
    "for image_id in train_data.keys():\n",
    "    if train_data[image_id][0] == \"-1\":\n",
    "        train_neg_dict[image_id] = train_data[image_id]\n",
    "    else:\n",
    "        train_pos_dict[image_id] = train_data[image_id]\n"
   ]
  },
  {
   "cell_type": "code",
   "execution_count": 20,
   "metadata": {},
   "outputs": [],
   "source": [
    "test_pos_dict = {}\n",
    "test_neg_dict = {}\n",
    "\n",
    "for image_id in test_data.keys():\n",
    "    if test_data[image_id][0] == \"-1\":\n",
    "        test_neg_dict[image_id] = test_data[image_id]\n",
    "    else:\n",
    "        test_pos_dict[image_id] = test_data[image_id]"
   ]
  },
  {
   "cell_type": "code",
   "execution_count": 26,
   "metadata": {},
   "outputs": [
    {
     "name": "stdout",
     "output_type": "stream",
     "text": [
      "Number of positive samples in the training set:  2245\n",
      "Number of negative samples in the training set:  7392\n"
     ]
    },
    {
     "data": {
      "image/png": "[encoded data removed]",
      "text/plain": [
       "<Figure size 720x360 with 1 Axes>"
      ]
     },
     "metadata": {
      "needs_background": "light"
     },
     "output_type": "display_data"
    }
   ],
   "source": [
    "\n",
    "from matplotlib import pyplot as plt\n",
    "\n",
    "# plot the distribution of the number of positive and negative samples in the training set\n",
    "plt.figure(figsize=(10, 5))\n",
    "plt.subplot(1, 2, 1)\n",
    "plt.bar([\"Positive\", \"Negative\"], [len(train_pos_dict), len(train_neg_dict)])\n",
    "plt.title(\"Training set\")\n",
    "print(\"Number of positive samples in the training set: \", len(train_pos_dict))\n",
    "print(\"Number of negative samples in the training set: \", len(train_neg_dict))"
   ]
  },
  {
   "cell_type": "code",
   "execution_count": 25,
   "metadata": {},
   "outputs": [
    {
     "name": "stdout",
     "output_type": "stream",
     "text": [
      "Number of positive samples in the test set:  424\n",
      "Number of negative samples in the test set:  1986\n"
     ]
    },
    {
     "data": {
      "image/png": "[encoded data removed]",
      "text/plain": [
       "<Figure size 720x360 with 1 Axes>"
      ]
     },
     "metadata": {
      "needs_background": "light"
     },
     "output_type": "display_data"
    }
   ],
   "source": [
    "# plot the distribution of the number of positive and negative samples in the testing set\n",
    "plt.figure(figsize=(10, 5))\n",
    "plt.subplot(1, 2, 1)\n",
    "plt.bar([\"Positive\", \"Negative\"], [len(test_pos_dict), len(test_neg_dict)])\n",
    "plt.title(\"Testing set\")\n",
    "print(\"Number of positive samples in the test set: \", len(test_pos_dict))\n",
    "print(\"Number of negative samples in the test set: \", len(test_neg_dict))"
   ]
  },
  {
   "attachments": {},
   "cell_type": "markdown",
   "metadata": {},
   "source": [
    "### Check number of positive and negative samples in balanced train and test set"
   ]
  },
  {
   "cell_type": "code",
   "execution_count": 30,
   "metadata": {},
   "outputs": [
    {
     "name": "stdout",
     "output_type": "stream",
     "text": [
      "Number of positive samples in the training set:  2135\n",
      "Number of negative samples in the training set:  2135\n",
      "Number of positive samples in the test set:  534\n",
      "Number of negative samples in the test set:  534\n"
     ]
    },
    {
     "data": {
      "image/png": "[encoded data removed]",
      "text/plain": [
       "<Figure size 720x360 with 1 Axes>"
      ]
     },
     "metadata": {
      "needs_background": "light"
     },
     "output_type": "display_data"
    },
    {
     "data": {
      "image/png": "[encoded data removed]",
      "text/plain": [
       "<Figure size 720x360 with 1 Axes>"
      ]
     },
     "metadata": {
      "needs_background": "light"
     },
     "output_type": "display_data"
    }
   ],
   "source": [
    "# load json file\n",
    "train_annotation_path = \"/home/dhgbao/VinBrain/Pneumothorax_Segmentation/dataset/annotations/train.json\"\n",
    "test_annotation_path = \"/home/dhgbao/VinBrain/Pneumothorax_Segmentation/dataset/annotations/test.json\"\n",
    "\n",
    "with open(train_annotation_path, 'r') as f:\n",
    "    train_data = json.load(f)\n",
    "\n",
    "with open(test_annotation_path, 'r') as f:\n",
    "    test_data = json.load(f)\n",
    "\n",
    "train_pos_dict = {}\n",
    "train_neg_dict = {}\n",
    "\n",
    "for image_id in train_data.keys():\n",
    "    if train_data[image_id][0] == \"-1\":\n",
    "        train_neg_dict[image_id] = train_data[image_id]\n",
    "    else:\n",
    "        train_pos_dict[image_id] = train_data[image_id]\n",
    "\n",
    "test_pos_dict = {}\n",
    "test_neg_dict = {}\n",
    "\n",
    "for image_id in test_data.keys():\n",
    "    if test_data[image_id][0] == \"-1\":\n",
    "        test_neg_dict[image_id] = test_data[image_id]\n",
    "    else:\n",
    "        test_pos_dict[image_id] = test_data[image_id]\n",
    "\n",
    "# plot the distribution of the number of positive and negative samples in the training set\n",
    "plt.figure(figsize=(10, 5))\n",
    "plt.subplot(1, 2, 1)\n",
    "plt.bar([\"Positive\", \"Negative\"], [len(train_pos_dict), len(train_neg_dict)])\n",
    "plt.title(\"Training set\")\n",
    "print(\"Number of positive samples in the training set: \", len(train_pos_dict))\n",
    "print(\"Number of negative samples in the training set: \", len(train_neg_dict))\n",
    "\n",
    "# plot the distribution of the number of positive and negative samples in the testing set\n",
    "plt.figure(figsize=(10, 5))\n",
    "plt.subplot(1, 2, 1)\n",
    "plt.bar([\"Positive\", \"Negative\"], [len(test_pos_dict), len(test_neg_dict)])\n",
    "plt.title(\"Testing set\")\n",
    "print(\"Number of positive samples in the test set: \", len(test_pos_dict))\n",
    "print(\"Number of negative samples in the test set: \", len(test_neg_dict))"
   ]
  }
 ],
 "metadata": {
  "kernelspec": {
   "display_name": "Python 3",
   "language": "python",
   "name": "python3"
  },
  "language_info": {
   "codemirror_mode": {
    "name": "ipython",
    "version": 3
   },
   "file_extension": ".py",
   "mimetype": "text/x-python",
   "name": "python",
   "nbconvert_exporter": "python",
   "pygments_lexer": "ipython3",
   "version": "3.8.10"
  },
  "orig_nbformat": 4,
  "vscode": {
   "interpreter": {
    "hash": "916dbcbb3f70747c44a77c7bcd40155683ae19c65e1c03b4aa3499c5328201f1"
   }
  }
 },
 "nbformat": 4,
 "nbformat_minor": 2
}
