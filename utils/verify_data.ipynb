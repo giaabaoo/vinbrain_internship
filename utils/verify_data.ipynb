{
 "cells": [
  {
   "cell_type": "code",
   "execution_count": 8,
   "metadata": {},
   "outputs": [],
   "source": [
    "import pandas as pd\n",
    "import numpy as np\n",
    "import matplotlib.pyplot as plt\n",
    "\n",
    "df = pd.read_csv(\"/home/dhgbao/VinBrain/Pneumothorax_Segmentation/dataset/annotations/stage_2_train.csv\", usecols=['ImageId', 'EncodedPixels'])"
   ]
  },
  {
   "cell_type": "code",
   "execution_count": 2,
   "metadata": {},
   "outputs": [
    {
     "data": {
      "text/plain": [
       "(12047,)"
      ]
     },
     "execution_count": 2,
     "metadata": {},
     "output_type": "execute_result"
    }
   ],
   "source": [
    "df['ImageId'].unique().shape"
   ]
  },
  {
   "cell_type": "code",
   "execution_count": 3,
   "metadata": {},
   "outputs": [
    {
     "data": {
      "text/plain": [
       "(12954,)"
      ]
     },
     "execution_count": 3,
     "metadata": {},
     "output_type": "execute_result"
    }
   ],
   "source": [
    "df['ImageId'].shape"
   ]
  },
  {
   "cell_type": "code",
   "execution_count": 2,
   "metadata": {},
   "outputs": [
    {
     "data": {
      "text/plain": [
       "1.2.276.0.7230010.3.1.4.8323329.1851.1517875169.919023     10\n",
       "1.2.276.0.7230010.3.1.4.8323329.5073.1517875186.287848      8\n",
       "1.2.276.0.7230010.3.1.4.8323329.13026.1517875243.170116     8\n",
       "1.2.276.0.7230010.3.1.4.8323329.497.1517875163.185132       7\n",
       "1.2.276.0.7230010.3.1.4.8323329.2878.1517875175.188420      6\n",
       "                                                           ..\n",
       "1.2.276.0.7230010.3.1.4.8323329.2642.1517875173.857757      1\n",
       "1.2.276.0.7230010.3.1.4.8323329.13307.1517875244.601038     1\n",
       "1.2.276.0.7230010.3.1.4.8323329.31978.1517875157.808201     1\n",
       "1.2.276.0.7230010.3.1.4.8323329.1237.1517875166.904962      1\n",
       "1.2.276.0.7230010.3.1.4.8323329.31754.1517875156.625088     1\n",
       "Name: ImageId, Length: 12047, dtype: int64"
      ]
     },
     "execution_count": 2,
     "metadata": {},
     "output_type": "execute_result"
    }
   ],
   "source": [
    "df['ImageId'].value_counts()"
   ]
  },
  {
   "cell_type": "markdown",
   "metadata": {},
   "source": [
    "### Aggregate multiple masks"
   ]
  },
  {
   "cell_type": "code",
   "execution_count": 1,
   "metadata": {},
   "outputs": [
    {
     "data": {
      "text/plain": [
       "'1.2.276.0.7230010.3.1.4.8323329.13291.1517875244.527846.png'"
      ]
     },
     "execution_count": 1,
     "metadata": {},
     "output_type": "execute_result"
    }
   ],
   "source": [
    "\"1.2.276.0.7230010.3.1.4.8323329.13291.1517875244.527846.png\""
   ]
  },
  {
   "cell_type": "code",
   "execution_count": 2,
   "metadata": {},
   "outputs": [],
   "source": [
    "annotations = [\"826700 13 1007 27 996 38 986 43 983 50 978 48 981 47 982 45 984 41 993 32 1006 18 1016 8\", \"702560 4 1019 6 1016 9 1014 11 1014 10 1014 11 1013 11 1013 12 1012 12 1013 12 1012 12 1012 13 1011 13 1011 13 1012 13 1011 13 1011 13 1011 13 1012 13 1011 13 1012 12 1012 12 1012 12 1013 12 1012 12 1013 11 1014 10 1015 9 1016 7 1018 6 1019 4\", \"793856 7 1015 11 1011 15 1008 18 1004 23 1000 26 997 29 993 34 989 37 986 41 981 44 979 46 977 48 977 48 978 48 978 47 979 46 980 45 982 42 984 41 985 39 988 37 989 36 990 35 991 34 993 32 1005 20 1010 14 1014 9\", \"794887 8 1011 17 1002 24 993 33 989 37 985 42 980 45 977 48 975 51 972 53 969 56 967 59 964 61 962 63 960 65 960 65 959 66 958 67 957 68 957 68 957 68 957 68 958 67 959 65 961 64 961 63 963 61 965 60 966 58 969 56 972 52 974 50 976 48 978 46 982 41 988 36 992 31 995 27 1001 22 1012 10\", \"697438 2 1018 10 1014 11 1013 13 1011 14 1010 15 1009 16 1009 15 1009 16 1008 16 1008 17 1007 17 1008 17 1007 17 1008 17 1007 17 1007 18 1007 17 1007 17 1008 17 1007 17 1007 18 1007 17 1007 18 1007 17 1007 17 1008 16 1009 15 1010 14 1010 14 1011 13 1012 12 1013 11 1014 9 1016 8 1017 6\"]"
   ]
  },
  {
   "cell_type": "code",
   "execution_count": 33,
   "metadata": {},
   "outputs": [],
   "source": [
    "def rle2mask(rle, width, height):\n",
    "    mask= np.zeros(width* height)\n",
    "    array = np.asarray([int(x) for x in rle.split()])\n",
    "    starts = array[0::2]\n",
    "    lengths = array[1::2]\n",
    "\n",
    "    current_position = 0\n",
    "    for index, start in enumerate(starts):\n",
    "        current_position += start\n",
    "        mask[current_position:current_position+lengths[index]] = 255\n",
    "        current_position += lengths[index]\n",
    "\n",
    "    return mask.reshape(width, height)"
   ]
  },
  {
   "cell_type": "code",
   "execution_count": 35,
   "metadata": {},
   "outputs": [
    {
     "data": {
      "text/plain": [
       "<matplotlib.image.AxesImage at 0x7f2e68b27970>"
      ]
     },
     "execution_count": 35,
     "metadata": {},
     "output_type": "execute_result"
    },
    {
     "data": {
      "image/png": "[encoded data removed]",
      "text/plain": [
       "<Figure size 432x288 with 1 Axes>"
      ]
     },
     "metadata": {
      "needs_background": "light"
     },
     "output_type": "display_data"
    }
   ],
   "source": [
    "full_mask = np.zeros((1024, 1024))\n",
    "for idx, annotation in enumerate(annotations):\n",
    "    mask = rle2mask(annotation, 1024, 1024)\n",
    "    full_mask += mask\n",
    "    # show mask as plt image\n",
    "    # plt show multiple images\n",
    "    # plt.subplot(2, 3, idx+1)\n",
    "    # plt.imshow(mask)\n",
    "plt.imshow(full_mask)"
   ]
  },
  {
   "cell_type": "code",
   "execution_count": 26,
   "metadata": {},
   "outputs": [
    {
     "data": {
      "text/plain": [
       "'826700 13 1007 27 996 38 986 43 983 50 978 48 981 47 982 45 984 41 993 32 1006 18 1016 8 702560 4 1019 6 1016 9 1014 11 1014 10 1014 11 1013 11 1013 12 1012 12 1013 12 1012 12 1012 13 1011 13 1011 13 1012 13 1011 13 1011 13 1011 13 1012 13 1011 13 1012 12 1012 12 1012 12 1013 12 1012 12 1013 11 1014 10 1015 9 1016 7 1018 6 1019 4 793856 7 1015 11 1011 15 1008 18 1004 23 1000 26 997 29 993 34 989 37 986 41 981 44 979 46 977 48 977 48 978 48 978 47 979 46 980 45 982 42 984 41 985 39 988 37 989 36 990 35 991 34 993 32 1005 20 1010 14 1014 9 794887 8 1011 17 1002 24 993 33 989 37 985 42 980 45 977 48 975 51 972 53 969 56 967 59 964 61 962 63 960 65 960 65 959 66 958 67 957 68 957 68 957 68 957 68 958 67 959 65 961 64 961 63 963 61 965 60 966 58 969 56 972 52 974 50 976 48 978 46 982 41 988 36 992 31 995 27 1001 22 1012 10 697438 2 1018 10 1014 11 1013 13 1011 14 1010 15 1009 16 1009 15 1009 16 1008 16 1008 17 1007 17 1008 17 1007 17 1008 17 1007 17 1007 18 1007 17 1007 17 1008 17 1007 17 1007 18 1007 17 1007 18 1007 17 1007 17 1008 16 1009 15 1010 14 1010 14 1011 13 1012 12 1013 11 1014 9 1016 8 1017 6'"
      ]
     },
     "execution_count": 26,
     "metadata": {},
     "output_type": "execute_result"
    }
   ],
   "source": [
    "new_ann = ' '.join(annotations)\n",
    "new_ann"
   ]
  },
  {
   "cell_type": "code",
   "execution_count": 32,
   "metadata": {},
   "outputs": [
    {
     "name": "stdout",
     "output_type": "stream",
     "text": [
      "[826700   1007    996    986    983    978    981    982    984    993\n",
      "   1006   1016 702560   1019   1016   1014   1014   1014   1013   1013\n",
      "   1012   1013   1012   1012   1011   1011   1012   1011   1011   1011\n",
      "   1012   1011   1012   1012   1012   1013   1012   1013   1014   1015\n",
      "   1016   1018   1019 793856   1015   1011   1008   1004   1000    997\n",
      "    993    989    986    981    979    977    977    978    978    979\n",
      "    980    982    984    985    988    989    990    991    993   1005\n",
      "   1010   1014 794887   1011   1002    993    989    985    980    977\n",
      "    975    972    969    967    964    962    960    960    959    958\n",
      "    957    957    957    957    958    959    961    961    963    965\n",
      "    966    969    972    974    976    978    982    988    992    995\n",
      "   1001   1012 697438   1018   1014   1013   1011   1010   1009   1009\n",
      "   1009   1008   1008   1007   1008   1007   1008   1007   1007   1007\n",
      "   1007   1008   1007   1007   1007   1007   1007   1007   1008   1009\n",
      "   1010   1010   1011   1012   1013   1014   1016   1017]\n",
      "[13 27 38 43 50 48 47 45 41 32 18  8  4  6  9 11 10 11 11 12 12 12 12 13\n",
      " 13 13 13 13 13 13 13 13 12 12 12 12 12 11 10  9  7  6  4  7 11 15 18 23\n",
      " 26 29 34 37 41 44 46 48 48 48 47 46 45 42 41 39 37 36 35 34 32 20 14  9\n",
      "  8 17 24 33 37 42 45 48 51 53 56 59 61 63 65 65 66 67 68 68 68 68 67 65\n",
      " 64 63 61 60 58 56 52 50 48 46 41 36 31 27 22 10  2 10 11 13 14 15 16 15\n",
      " 16 16 17 17 17 17 17 17 18 17 17 17 17 18 17 18 17 17 16 15 14 14 13 12\n",
      " 11  9  8  6]\n",
      "1024\n"
     ]
    },
    {
     "data": {
      "text/plain": [
       "<matplotlib.image.AxesImage at 0x7f2e690b5f40>"
      ]
     },
     "execution_count": 32,
     "metadata": {},
     "output_type": "execute_result"
    },
    {
     "data": {
      "image/png": "[encoded data removed]",
      "text/plain": [
       "<Figure size 432x288 with 1 Axes>"
      ]
     },
     "metadata": {
      "needs_background": "light"
     },
     "output_type": "display_data"
    }
   ],
   "source": [
    "mask = rle2mask(new_ann, 1024, 1024)\n",
    "print(len(mask))\n",
    "# show mask as plt image\n",
    "plt.imshow(mask)"
   ]
  },
  {
   "cell_type": "code",
   "execution_count": null,
   "metadata": {},
   "outputs": [],
   "source": [
    "# save_name1 = image_name.replace(\".png\", \"\") + \"_mini_mask\" + str(idx) + \".png\"\n",
    "# cv2.imwrite(os.path.join(\"../../dataset/pngs/segmentation_masks/train_mask\", save_name1), mask)\n",
    "# save_name2 = image_name.replace(\".png\", \"\") + \"_full_mask\" + \".png\"\n"
   ]
  }
 ],
 "metadata": {
  "kernelspec": {
   "display_name": "Python 3.8.10 64-bit",
   "language": "python",
   "name": "python3"
  },
  "language_info": {
   "codemirror_mode": {
    "name": "ipython",
    "version": 3
   },
   "file_extension": ".py",
   "mimetype": "text/x-python",
   "name": "python",
   "nbconvert_exporter": "python",
   "pygments_lexer": "ipython3",
   "version": "3.8.10"
  },
  "orig_nbformat": 4,
  "vscode": {
   "interpreter": {
    "hash": "916dbcbb3f70747c44a77c7bcd40155683ae19c65e1c03b4aa3499c5328201f1"
   }
  }
 },
 "nbformat": 4,
 "nbformat_minor": 2
}
