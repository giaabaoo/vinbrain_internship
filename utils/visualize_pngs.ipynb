{
 "cells": [
  {
   "cell_type": "code",
   "execution_count": 1,
   "metadata": {},
   "outputs": [],
   "source": [
    "import cv2\n",
    "import os\n",
    "import numpy as np"
   ]
  },
  {
   "cell_type": "code",
   "execution_count": 2,
   "metadata": {},
   "outputs": [],
   "source": [
    "sample_images = [\"1.2.276.0.7230010.3.1.4.8323329.300.1517875162.258081\",\n",
    "                 \"1.2.276.0.7230010.3.1.4.8323329.32752.1517875162.169303\",\n",
    "                 \"1.2.276.0.7230010.3.1.4.8323329.32719.1517875161.965007\",\n",
    "                 \"1.2.276.0.7230010.3.1.4.8323329.32686.1517875161.807009\"]"
   ]
  },
  {
   "cell_type": "code",
   "execution_count": 3,
   "metadata": {},
   "outputs": [],
   "source": [
    "image_path = \"/home/dhgbao/VinBrain/Pneumothorax_Segmentation/dataset/pngs256/train\"\n",
    "label_path = \"/home/dhgbao/VinBrain/Pneumothorax_Segmentation/dataset/pngs256/masks\""
   ]
  },
  {
   "cell_type": "code",
   "execution_count": 4,
   "metadata": {},
   "outputs": [],
   "source": [
    "from pathlib import Path\n",
    "Path(\"/home/dhgbao/VinBrain/Pneumothorax_Segmentation/dataset/pngs256/blend\").mkdir(parents=True, exist_ok=True)"
   ]
  },
  {
   "cell_type": "code",
   "execution_count": 5,
   "metadata": {},
   "outputs": [
    {
     "name": "stderr",
     "output_type": "stream",
     "text": [
      "[ WARN:0@4.487] global /io/opencv/modules/imgcodecs/src/loadsave.cpp (239) findDecoder imread_('/home/dhgbao/VinBrain/Pneumothorax_Segmentation/dataset/pngs256/train/1.2.276.0.7230010.3.1.4.8323329.300.1517875162.258081'): can't open/read file: check file path/integrity\n",
      "[ WARN:0@4.487] global /io/opencv/modules/imgcodecs/src/loadsave.cpp (239) findDecoder imread_('/home/dhgbao/VinBrain/Pneumothorax_Segmentation/dataset/pngs256/masks/1.2.276.0.7230010.3.1.4.8323329.300.1517875162.258081'): can't open/read file: check file path/integrity\n"
     ]
    },
    {
     "ename": "TypeError",
     "evalue": "'NoneType' object is not subscriptable",
     "output_type": "error",
     "traceback": [
      "\u001b[0;31m---------------------------------------------------------------------------\u001b[0m",
      "\u001b[0;31mTypeError\u001b[0m                                 Traceback (most recent call last)",
      "\u001b[1;32m/home/dhgbao/VinBrain/Pneumothorax_Segmentation/vinbrain_internship/utils/visualize_pngs.ipynb Cell 5\u001b[0m in \u001b[0;36m<cell line: 1>\u001b[0;34m()\u001b[0m\n\u001b[1;32m      <a href='vscode-notebook-cell://ssh-remote%2B7b22686f73744e616d65223a224a564e4c6162227d/home/dhgbao/VinBrain/Pneumothorax_Segmentation/vinbrain_internship/utils/visualize_pngs.ipynb#W3sdnNjb2RlLXJlbW90ZQ%3D%3D?line=1'>2</a>\u001b[0m image \u001b[39m=\u001b[39m cv2\u001b[39m.\u001b[39mimread(os\u001b[39m.\u001b[39mpath\u001b[39m.\u001b[39mjoin(image_path, image_name))\n\u001b[1;32m      <a href='vscode-notebook-cell://ssh-remote%2B7b22686f73744e616d65223a224a564e4c6162227d/home/dhgbao/VinBrain/Pneumothorax_Segmentation/vinbrain_internship/utils/visualize_pngs.ipynb#W3sdnNjb2RlLXJlbW90ZQ%3D%3D?line=2'>3</a>\u001b[0m mask \u001b[39m=\u001b[39m cv2\u001b[39m.\u001b[39mimread(os\u001b[39m.\u001b[39mpath\u001b[39m.\u001b[39mjoin(label_path, image_name))\n\u001b[0;32m----> <a href='vscode-notebook-cell://ssh-remote%2B7b22686f73744e616d65223a224a564e4c6162227d/home/dhgbao/VinBrain/Pneumothorax_Segmentation/vinbrain_internship/utils/visualize_pngs.ipynb#W3sdnNjb2RlLXJlbW90ZQ%3D%3D?line=4'>5</a>\u001b[0m mask \u001b[39m=\u001b[39m np\u001b[39m.\u001b[39mrepeat(mask[\u001b[39m.\u001b[39;49m\u001b[39m.\u001b[39;49m\u001b[39m.\u001b[39;49m, np\u001b[39m.\u001b[39;49mnewaxis], \u001b[39m3\u001b[39m, axis\u001b[39m=\u001b[39m\u001b[39m-\u001b[39m\u001b[39m1\u001b[39m)\u001b[39m.\u001b[39mastype(np\u001b[39m.\u001b[39muint8)\n\u001b[1;32m      <a href='vscode-notebook-cell://ssh-remote%2B7b22686f73744e616d65223a224a564e4c6162227d/home/dhgbao/VinBrain/Pneumothorax_Segmentation/vinbrain_internship/utils/visualize_pngs.ipynb#W3sdnNjb2RlLXJlbW90ZQ%3D%3D?line=5'>6</a>\u001b[0m blend_image \u001b[39m=\u001b[39m cv2\u001b[39m.\u001b[39maddWeighted(image, \u001b[39m0.5\u001b[39m, mask, \u001b[39m0.5\u001b[39m, \u001b[39m0.0\u001b[39m)\n\u001b[1;32m      <a href='vscode-notebook-cell://ssh-remote%2B7b22686f73744e616d65223a224a564e4c6162227d/home/dhgbao/VinBrain/Pneumothorax_Segmentation/vinbrain_internship/utils/visualize_pngs.ipynb#W3sdnNjb2RlLXJlbW90ZQ%3D%3D?line=6'>7</a>\u001b[0m cv2\u001b[39m.\u001b[39mimwrite(os\u001b[39m.\u001b[39mpath\u001b[39m.\u001b[39mjoin(\u001b[39m\"\u001b[39m\u001b[39m/home/dhgbao/VinBrain/Pneumothorax_Segmentation/dataset/pngs256/blend\u001b[39m\u001b[39m\"\u001b[39m, image_name), blend_image)\n",
      "\u001b[0;31mTypeError\u001b[0m: 'NoneType' object is not subscriptable"
     ]
    }
   ],
   "source": [
    "for image_name in sample_images:\n",
    "    \n",
    "    image = cv2.imread(os.path.join(image_path, image_name))\n",
    "    mask = cv2.imread(os.path.join(label_path, image_name))\n",
    "    \n",
    "    mask = np.repeat(mask[..., np.newaxis], 3, axis=-1).astype(np.uint8)\n",
    "    blend_image = cv2.addWeighted(image, 0.5, mask, 0.5, 0.0)\n",
    "    cv2.imwrite(os.path.join(\"/home/dhgbao/VinBrain/Pneumothorax_Segmentation/dataset/pngs256/blend\", image_name), blend_image)"
   ]
  },
  {
   "cell_type": "code",
   "execution_count": null,
   "metadata": {},
   "outputs": [],
   "source": []
  }
 ],
 "metadata": {
  "kernelspec": {
   "display_name": "Python 3",
   "language": "python",
   "name": "python3"
  },
  "language_info": {
   "codemirror_mode": {
    "name": "ipython",
    "version": 3
   },
   "file_extension": ".py",
   "mimetype": "text/x-python",
   "name": "python",
   "nbconvert_exporter": "python",
   "pygments_lexer": "ipython3",
   "version": "3.8.10"
  },
  "orig_nbformat": 4,
  "vscode": {
   "interpreter": {
    "hash": "916dbcbb3f70747c44a77c7bcd40155683ae19c65e1c03b4aa3499c5328201f1"
   }
  }
 },
 "nbformat": 4,
 "nbformat_minor": 2
}
